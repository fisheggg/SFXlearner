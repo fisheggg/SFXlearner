{
 "cells": [
  {
   "cell_type": "code",
   "execution_count": 1,
   "id": "31dfb4bd",
   "metadata": {},
   "outputs": [],
   "source": [
    "import torch\n",
    "import pytorch_lightning as pl\n",
    "from torch.nn import functional as F\n",
    "from torch.utils.data import DataLoader, random_split\n",
    "import torchaudio\n",
    "from src.dataloader import MultiFXDataset\n",
    "from src.model.resnet import resnet18\n",
    "import pytorch_lightning as pl\n",
    "from argparse import ArgumentParser\n",
    "from logging import Logger\n",
    "from warnings import simplefilter"
   ]
  },
  {
   "cell_type": "code",
   "execution_count": 2,
   "id": "c26d341e",
   "metadata": {},
   "outputs": [],
   "source": [
    "data = \"dataset/generated/gen_multiFX_10102021\"\n",
    "with_clean = True\n",
    "batch_size = 128\n",
    "learning_rate = 1e-3\n",
    "\n",
    "trainer_args = {\n",
    "    \"gpus\": 1,\n",
    "    \"max_epochs\": 10,\n",
    "}"
   ]
  },
  {
   "cell_type": "code",
   "execution_count": null,
   "id": "580337ab",
   "metadata": {},
   "outputs": [
    {
     "name": "stderr",
     "output_type": "stream",
     "text": [
      "GPU available: True, used: True\n",
      "TPU available: False, using: 0 TPU cores\n",
      "IPU available: False, using: 0 IPUs\n",
      "LOCAL_RANK: 0 - CUDA_VISIBLE_DEVICES: [0]\n"
     ]
    },
    {
     "name": "stdout",
     "output_type": "stream",
     "text": [
      "=> Start training\n",
      "=> Training with clean\n"
     ]
    },
    {
     "name": "stderr",
     "output_type": "stream",
     "text": [
      "2021-10-10 18:35:53.467278: I tensorflow/stream_executor/platform/default/dso_loader.cc:49] Successfully opened dynamic library libcudart.so.11.0\n",
      "\n",
      "   | Name      | Type              | Params\n",
      "-------------------------------------------------\n",
      "0  | transform | MelSpectrogram    | 0     \n",
      "1  | conv1     | Conv2d            | 800   \n",
      "2  | bn1       | BatchNorm2d       | 32    \n",
      "3  | relu      | ReLU              | 0     \n",
      "4  | maxpool   | MaxPool2d         | 0     \n",
      "5  | layer_1   | Sequential        | 33.1 K\n",
      "6  | layer_2   | Sequential        | 21.8 K\n",
      "7  | layer_3   | Sequential        | 131 K \n",
      "8  | layer_4   | Sequential        | 525 K \n",
      "9  | avgpool   | AdaptiveAvgPool2d | 0     \n",
      "10 | fc        | Linear            | 1.7 K \n",
      "-------------------------------------------------\n",
      "714 K     Trainable params\n",
      "0         Non-trainable params\n",
      "714 K     Total params\n",
      "2.859     Total estimated model params size (MB)\n"
     ]
    },
    {
     "data": {
      "application/vnd.jupyter.widget-view+json": {
       "model_id": "",
       "version_major": 2,
       "version_minor": 0
      },
      "text/plain": [
       "Validation sanity check: 0it [00:00, ?it/s]"
      ]
     },
     "metadata": {},
     "output_type": "display_data"
    },
    {
     "data": {
      "application/vnd.jupyter.widget-view+json": {
       "model_id": "965f09d432f84101868cfe30425dfd4e",
       "version_major": 2,
       "version_minor": 0
      },
      "text/plain": [
       "Training: -1it [00:00, ?it/s]"
      ]
     },
     "metadata": {},
     "output_type": "display_data"
    },
    {
     "data": {
      "application/vnd.jupyter.widget-view+json": {
       "model_id": "",
       "version_major": 2,
       "version_minor": 0
      },
      "text/plain": [
       "Validating: 0it [00:00, ?it/s]"
      ]
     },
     "metadata": {},
     "output_type": "display_data"
    },
    {
     "data": {
      "application/vnd.jupyter.widget-view+json": {
       "model_id": "",
       "version_major": 2,
       "version_minor": 0
      },
      "text/plain": [
       "Validating: 0it [00:00, ?it/s]"
      ]
     },
     "metadata": {},
     "output_type": "display_data"
    },
    {
     "data": {
      "application/vnd.jupyter.widget-view+json": {
       "model_id": "",
       "version_major": 2,
       "version_minor": 0
      },
      "text/plain": [
       "Validating: 0it [00:00, ?it/s]"
      ]
     },
     "metadata": {},
     "output_type": "display_data"
    },
    {
     "data": {
      "application/vnd.jupyter.widget-view+json": {
       "model_id": "",
       "version_major": 2,
       "version_minor": 0
      },
      "text/plain": [
       "Validating: 0it [00:00, ?it/s]"
      ]
     },
     "metadata": {},
     "output_type": "display_data"
    },
    {
     "data": {
      "application/vnd.jupyter.widget-view+json": {
       "model_id": "f747842c84f14754b70d4565343c4745",
       "version_major": 2,
       "version_minor": 0
      },
      "text/plain": [
       "Validating: 0it [00:00, ?it/s]"
      ]
     },
     "metadata": {},
     "output_type": "display_data"
    }
   ],
   "source": [
    "transform = torchaudio.transforms.MelSpectrogram(sample_rate=44100,\n",
    "                                                  n_fft=2048,\n",
    "                                                  n_mels=128).to(\"cuda\")\n",
    "train_set = MultiFXDataset(data, 'train', None)\n",
    "valid_set = MultiFXDataset(data, 'valid', None)\n",
    "train_loader = DataLoader(train_set, batch_size=batch_size, num_workers=16, shuffle=True)\n",
    "valid_loader = DataLoader(valid_set, batch_size=batch_size, num_workers=16)\n",
    "\n",
    "print(\"=> Start training\")\n",
    "with_clean = True\n",
    "if with_clean is True:\n",
    "    print(\"=> Training with clean\")\n",
    "    in_channels = 2\n",
    "else:\n",
    "    print(\"=> Training no clean\")\n",
    "    in_channels = 1\n",
    "\n",
    "model = resnet18(in_channels, train_set.settings[\"n_classes\"], with_clean, learning_rate, transform=transform)\n",
    "\n",
    "trainer = pl.Trainer(**trainer_args)\n",
    "trainer.fit(model, train_loader, valid_loader)"
   ]
  }
 ],
 "metadata": {
  "interpreter": {
   "hash": "d4d1e4263499bec80672ea0156c357c1ee493ec2b1c70f0acce89fc37c4a6abe"
  },
  "kernelspec": {
   "display_name": "Python 3 (ipykernel)",
   "language": "python",
   "name": "python3"
  },
  "language_info": {
   "codemirror_mode": {
    "name": "ipython",
    "version": 3
   },
   "file_extension": ".py",
   "mimetype": "text/x-python",
   "name": "python",
   "nbconvert_exporter": "python",
   "pygments_lexer": "ipython3",
   "version": "3.8.10"
  }
 },
 "nbformat": 4,
 "nbformat_minor": 5
}
